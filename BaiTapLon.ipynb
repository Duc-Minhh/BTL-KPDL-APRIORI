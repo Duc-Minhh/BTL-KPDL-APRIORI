{
  "nbformat": 4,
  "nbformat_minor": 0,
  "metadata": {
    "colab": {
      "provenance": [],
      "toc_visible": true
    },
    "kernelspec": {
      "name": "python3",
      "display_name": "Python 3"
    },
    "language_info": {
      "name": "python"
    }
  },
  "cells": [
    {
      "cell_type": "code",
      "source": [
        "import warnings\n",
        "warnings.filterwarnings(\"ignore\", category=DeprecationWarning)"
      ],
      "metadata": {
        "id": "TzlEp7gKtZW1"
      },
      "execution_count": null,
      "outputs": []
    },
    {
      "cell_type": "markdown",
      "source": [],
      "metadata": {
        "id": "pxVtNccgx7jp"
      }
    },
    {
      "cell_type": "code",
      "source": [
        "!pip install mlxtend --quiet\n",
        "!pip install pandas numpy matplotlib --quiet"
      ],
      "metadata": {
        "id": "Py49hulnh0ly"
      },
      "execution_count": 1,
      "outputs": []
    },
    {
      "cell_type": "code",
      "execution_count": null,
      "metadata": {
        "colab": {
          "base_uri": "https://localhost:8080/"
        },
        "id": "AmuhZoniQBy8",
        "outputId": "ed72a1e5-ce68-4f1b-ccac-8bb8a63915c1",
        "collapsed": true
      },
      "outputs": [
        {
          "output_type": "stream",
          "name": "stdout",
          "text": [
            "Drive already mounted at /content/drive/; to attempt to forcibly remount, call drive.mount(\"/content/drive/\", force_remount=True).\n"
          ]
        }
      ],
      "source": [
        "from google.colab import drive\n",
        "drive.mount('/content/drive/')"
      ]
    },
    {
      "cell_type": "code",
      "source": [
        "import pandas as pd\n",
        "data = pd.read_csv('/content/drive/MyDrive/Groceries_dataset.csv')\n",
        "print(\"Dữ liệu ban đầu: \", data.shape)\n",
        "print(\"5 Bộ dữ liệu đầu tiên\", data.head())"
      ],
      "metadata": {
        "colab": {
          "base_uri": "https://localhost:8080/"
        },
        "id": "nOf8a356fvqt",
        "outputId": "64b54c9d-5f62-46fe-9ef6-ea9b931ceace"
      },
      "execution_count": null,
      "outputs": [
        {
          "output_type": "stream",
          "name": "stdout",
          "text": [
            "Dữ liệu ban đầu:  (38765, 3)\n",
            "5 Bộ dữ liệu đầu tiên    Member_number        Date   itemDescription\n",
            "0           1808  21-07-2015    tropical fruit\n",
            "1           2552  05-01-2015        whole milk\n",
            "2           2300  19-09-2015         pip fruit\n",
            "3           1187  12-12-2015  other vegetables\n",
            "4           3037  01-02-2015        whole milk\n"
          ]
        }
      ]
    },
    {
      "cell_type": "markdown",
      "source": [
        "Làm sạch dữ liệu cơ bản"
      ],
      "metadata": {
        "id": "8pLW1Tl6lf02"
      }
    },
    {
      "cell_type": "code",
      "source": [
        "import re\n",
        "data['Date'] = pd.to_datetime(data['Date'], dayfirst = True, errors = 'coerce')\n",
        "data = data.dropna(subset = ['Date'])\n",
        "data['itemDescription'] = data['itemDescription'].astype(str)\n",
        "data = data[data['itemDescription'].str.strip() != '']\n",
        "def clean_item(s):\n",
        "  s = str(s).lower().strip()\n",
        "  s = re.sub(r'[/\\\\]', ' ', s)   # thay / hoặc \\ bằng khoảng trắng\n",
        "  s = re.sub(r'[^a-z0-9\\s\\-\\&]', ' ', s) # chỉ giữ lại chữ, số, -, &, khoảng trắng\n",
        "  s = re.sub(r'\\s*-\\s*', '-', s) # chuẩn hoá dấu gạch ngang\n",
        "  s = re.sub(r'\\s*&\\s*', '&', s)# chuẩn hoá dấu &\n",
        "  s = re.sub(r'\\s+', ' ', s).strip() # loại bỏ khoảng trắng thừa\n",
        "  return s\n",
        "data['item_clean'] = data['itemDescription'].apply(clean_item)"
      ],
      "metadata": {
        "id": "DpTSVFP9lroK",
        "collapsed": true
      },
      "execution_count": null,
      "outputs": []
    },
    {
      "cell_type": "markdown",
      "source": [
        "Xây dựng mã giao dịch\n"
      ],
      "metadata": {
        "id": "gh2KvbSbul4R"
      }
    },
    {
      "cell_type": "code",
      "source": [
        "data['Member_number'] = data['Member_number'].astype(str)\n",
        "data['TransID'] = data['Member_number'] + '_' + data['Date'].dt.strftime('%Y-%m-%d')"
      ],
      "metadata": {
        "id": "DHkytoQsuvDf",
        "collapsed": true
      },
      "execution_count": null,
      "outputs": []
    },
    {
      "cell_type": "markdown",
      "source": [
        "Gom các mặt hàng trong cùng giao dịch"
      ],
      "metadata": {
        "id": "5W73N337voAA"
      }
    },
    {
      "cell_type": "code",
      "source": [
        "transactions = (\n",
        "    data.groupby('TransID')['item_clean']\n",
        "        .apply(lambda x: list(dict.fromkeys(x)))  # unique + giữ thứ tự xuất hiện\n",
        "        .tolist()\n",
        ")\n",
        "print(\"Số giao dịch:\", len(transactions))"
      ],
      "metadata": {
        "id": "cp4oLf4evu-L",
        "collapsed": true
      },
      "execution_count": null,
      "outputs": []
    },
    {
      "cell_type": "markdown",
      "source": [
        "Đếm và lọc mặt hàng hiếm"
      ],
      "metadata": {
        "id": "9WcdvHn9xAPy"
      }
    },
    {
      "cell_type": "code",
      "source": [
        "from collections import Counter\n",
        "cnt = Counter(it for t in transactions for it in t)\n",
        "print(\"Số giao dịch ban đầu: \", len(transactions))\n",
        "print(\"Top items: \", cnt.most_common(15))\n",
        "min_count = 5\n",
        "freq_items = {it for it, c in cnt.items() if c >= min_count}\n",
        "transactions = [[it for it in t if it in freq_items] for t in transactions]\n",
        "transactions = [t for t in transactions if len(t) >= 1]"
      ],
      "metadata": {
        "colab": {
          "base_uri": "https://localhost:8080/"
        },
        "id": "NuHJMs6kxHaA",
        "outputId": "61822623-fd49-463a-c2de-6052733626ba",
        "collapsed": true
      },
      "execution_count": null,
      "outputs": [
        {
          "output_type": "stream",
          "name": "stdout",
          "text": [
            "Số giao dịch ban đầu:  14963\n",
            "Top items:  [('whole milk', 2363), ('other vegetables', 1827), ('rolls buns', 1646), ('soda', 1453), ('yogurt', 1285), ('root vegetables', 1041), ('tropical fruit', 1014), ('bottled water', 908), ('sausage', 903), ('citrus fruit', 795), ('pastry', 774), ('pip fruit', 734), ('shopping bags', 712), ('canned beer', 702), ('bottled beer', 678)]\n"
          ]
        }
      ]
    },
    {
      "cell_type": "markdown",
      "source": [
        "Chuyển sang dạng one-hot encoding chuẩn bị cho khai phá luật kết hợp"
      ],
      "metadata": {
        "id": "gqP4LHHAy2Eo"
      }
    },
    {
      "cell_type": "code",
      "source": [
        "from mlxtend.preprocessing import TransactionEncoder\n",
        "te = TransactionEncoder()\n",
        "te_ary = te.fit(transactions).transform(transactions, sparse=True)  # dùng sparse cho tiết kiệm RAM\n",
        "df_onehot = pd.DataFrame.sparse.from_spmatrix(te_ary, columns=te.columns_)\n",
        "print(\"Số mặt hàng (cột):\", df_onehot.shape[1])\n",
        "df_onehot.iloc[:5, :10]  # xem 5 giao dịch đầu, 10 cột đầu"
      ],
      "metadata": {
        "colab": {
          "base_uri": "https://localhost:8080/"
        },
        "id": "WgbTtmqBy9j1",
        "outputId": "ed08f65f-0e92-4a8c-d7fa-edff59f588ff",
        "collapsed": true
      },
      "execution_count": null,
      "outputs": [
        {
          "output_type": "stream",
          "name": "stdout",
          "text": [
            "One-hot saved, shape:  (14963, 163)\n"
          ]
        }
      ]
    },
    {
      "cell_type": "markdown",
      "source": [
        "Chạy apriori"
      ],
      "metadata": {
        "id": "f42afFE9hQOq"
      }
    },
    {
      "cell_type": "code",
      "source": [
        "from mlxtend.frequent_patterns import apriori\n",
        "\n",
        "# NGƯỠNG BẠN CÓ THỂ ĐIỀU CHỈNH:\n",
        "MIN_SUPPORT = 0.01   # 1% (tuỳ dữ liệu; nếu kết quả quá ít, giảm xuống 0.005; quá nhiều, tăng lên)\n",
        "MAX_LEN     = 3      # xét tối đa 3 sản phẩm / tập (tăng nếu muốn)\n",
        "\n",
        "frequent_itemsets = apriori(\n",
        "    df_onehot,\n",
        "    min_support=MIN_SUPPORT,\n",
        "    use_colnames=True,\n",
        "    max_len=MAX_LEN\n",
        ").sort_values('support', ascending=False)\n",
        "\n",
        "print(\"Số tập phổ biến tìm được:\", frequent_itemsets.shape[0])\n",
        "frequent_itemsets.head(10)"
      ],
      "metadata": {
        "id": "9TkJFS-GhSU7",
        "colab": {
          "base_uri": "https://localhost:8080/"
        },
        "collapsed": true,
        "outputId": "c4f1da20-e2a1-4bbd-81e8-3e45ffbc5b03"
      },
      "execution_count": null,
      "outputs": [
        {
          "output_type": "stream",
          "name": "stdout",
          "text": [
            "Số tập phổ biến tìm được:  69\n",
            "Top 10 tâp phổ biến nhất: \n",
            "     support            itemsets\n",
            "62  0.157923        (whole milk)\n",
            "39  0.122101  (other vegetables)\n",
            "45  0.110005        (rolls buns)\n",
            "51  0.097106              (soda)\n",
            "63  0.085879            (yogurt)\n",
            "46  0.069572   (root vegetables)\n",
            "56  0.067767    (tropical fruit)\n",
            "4   0.060683     (bottled water)\n",
            "48  0.060349           (sausage)\n",
            "14  0.053131      (citrus fruit)\n",
            "Đã lưu frequent_itemsets.csv\n"
          ]
        }
      ]
    },
    {
      "cell_type": "markdown",
      "source": [
        "Sinh luật kết hợp từ các tập"
      ],
      "metadata": {
        "id": "pZNzGnIIlhAz"
      }
    },
    {
      "cell_type": "code",
      "source": [
        "from mlxtend.frequent_patterns import association_rules\n",
        "\n",
        "# Sinh luật từ frequent itemsets\n",
        "rules = association_rules(\n",
        "    frequent_itemsets,\n",
        "    metric=\"confidence\",\n",
        "    min_threshold=0.1   # ngưỡng confidence tối thiểu ban đầu (để sinh nhiều luật); sẽ lọc sau\n",
        ")\n",
        "\n",
        "# Chuẩn hoá dạng hiển thị vế trái/phải\n",
        "def frozenset_to_str(fs):\n",
        "    return \", \".join(sorted(list(fs)))\n",
        "\n",
        "rules['antecedents_str'] = rules['antecedents'].apply(frozenset_to_str)\n",
        "rules['consequents_str'] = rules['consequents'].apply(frozenset_to_str)\n",
        "\n",
        "# LỌC LUẬT MẠNH (tuỳ môn, thường lấy: support >= s0, confidence >= c0, lift > 1)\n",
        "S0 = 0.01          # 1%\n",
        "C0 = 0.3           # 30%\n",
        "L0 = 1.2           # lift > 1.2\n",
        "strong_rules = rules[(rules['support'] >= S0) &\n",
        "                     (rules['confidence'] >= C0) &\n",
        "                     (rules['lift'] > L0)].copy()\n",
        "\n",
        "print(\"TỔNG SỐ LUẬT:\", rules.shape[0])\n",
        "print(\"SỐ LUẬT MẠNH (support>=%.3f, conf>=%.2f, lift>%.2f): %d\" % (S0, C0, L0, strong_rules.shape[0]))\n",
        "\n",
        "# Xem Top 20 luật mạnh theo lift\n",
        "cols_show = ['antecedents_str','consequents_str','support','confidence','lift','leverage','conviction']\n",
        "strong_rules.sort_values('lift', ascending=False).head(20)[cols_show]"
      ],
      "metadata": {
        "id": "4EuHRF3Elkj6",
        "colab": {
          "base_uri": "https://localhost:8080/"
        },
        "collapsed": true,
        "outputId": "dab4f859-24ba-46fc-f75a-c000b277c571"
      },
      "execution_count": null,
      "outputs": [
        {
          "output_type": "stream",
          "name": "stdout",
          "text": [
            "Tổng số luật tạo ra:  4\n",
            "Top 10 luật lift cao nhất\n",
            "          antecedents   consequents   support  confidence      lift  \\\n",
            "3            (yogurt)  (whole milk)  0.011161    0.129961  0.822940   \n",
            "1        (rolls buns)  (whole milk)  0.013968    0.126974  0.804028   \n",
            "0  (other vegetables)  (whole milk)  0.014837    0.121511  0.769430   \n",
            "2              (soda)  (whole milk)  0.011629    0.119752  0.758296   \n",
            "\n",
            "   antecedent_len  \n",
            "3               1  \n",
            "1               1  \n",
            "0               1  \n",
            "2               1  \n",
            "Đã lưu all_association_rules.csv\n"
          ]
        }
      ]
    }
  ]
}