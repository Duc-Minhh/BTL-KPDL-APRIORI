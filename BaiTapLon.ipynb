{
  "nbformat": 4,
  "nbformat_minor": 0,
  "metadata": {
    "colab": {
      "provenance": []
    },
    "kernelspec": {
      "name": "python3",
      "display_name": "Python 3"
    },
    "language_info": {
      "name": "python"
    }
  },
  "cells": [
    {
      "cell_type": "code",
      "source": [
        "!pip install mlxtend --quiet\n",
        "!pip install pandas numpy matplotlib --quiet"
      ],
      "metadata": {
        "id": "Py49hulnh0ly"
      },
      "execution_count": null,
      "outputs": []
    },
    {
      "cell_type": "code",
      "execution_count": null,
      "metadata": {
        "colab": {
          "base_uri": "https://localhost:8080/"
        },
        "id": "AmuhZoniQBy8",
        "outputId": "9eff3a91-3ae7-4a53-9052-64565af9be4b"
      },
      "outputs": [
        {
          "output_type": "stream",
          "name": "stdout",
          "text": [
            "Mounted at /content/drive/\n"
          ]
        }
      ],
      "source": [
        "from google.colab import drive\n",
        "drive.mount('/content/drive/')"
      ]
    },
    {
      "cell_type": "code",
      "source": [
        "import pandas as pd\n",
        "data = pd.read_csv('/content/drive/MyDrive/Groceries_dataset.csv')\n",
        "print(\"Dữ liệu ban đầu: \", data.shape)\n",
        "print(\"5 Bộ dữ liệu đầu tiên\", data.head)"
      ],
      "metadata": {
        "colab": {
          "base_uri": "https://localhost:8080/"
        },
        "id": "nOf8a356fvqt",
        "outputId": "20e62a61-4833-4888-88c6-073b40c55a78"
      },
      "execution_count": null,
      "outputs": [
        {
          "output_type": "stream",
          "name": "stdout",
          "text": [
            "Dữ liệu ban đầu:  (38765, 3)\n",
            "5 Bộ dữ liệu đầu tiên <bound method NDFrame.head of        Member_number        Date        itemDescription\n",
            "0               1808  21-07-2015         tropical fruit\n",
            "1               2552  05-01-2015             whole milk\n",
            "2               2300  19-09-2015              pip fruit\n",
            "3               1187  12-12-2015       other vegetables\n",
            "4               3037  01-02-2015             whole milk\n",
            "...              ...         ...                    ...\n",
            "38760           4471  08-10-2014          sliced cheese\n",
            "38761           2022  23-02-2014                  candy\n",
            "38762           1097  16-04-2014               cake bar\n",
            "38763           1510  03-12-2014  fruit/vegetable juice\n",
            "38764           1521  26-12-2014               cat food\n",
            "\n",
            "[38765 rows x 3 columns]>\n"
          ]
        }
      ]
    },
    {
      "cell_type": "markdown",
      "source": [
        "Làm sạch dữ liệu cơ bản"
      ],
      "metadata": {
        "id": "8pLW1Tl6lf02"
      }
    },
    {
      "cell_type": "code",
      "source": [
        "import re\n",
        "data['Date'] = pd.to_datetime(data['Date'], dayfirst = True, errors = 'coerce')\n",
        "data = data.dropna(subset = ['Date'])\n",
        "data['itemDescription'] = data['itemDescription'].astype(str)\n",
        "data = data[data['itemDescription'].str.strip() != '']\n",
        "def clean_item(s):\n",
        "  s = str(s).lower().strip()\n",
        "  s = re.sub(r'[/\\\\]', ' ', s)   # thay / hoặc \\ bằng khoảng trắng\n",
        "  s = re.sub(r'[^a-z0-9\\s\\-\\&]', ' ', s) # chỉ giữ lại chữ, số, -, &, khoảng trắng\n",
        "  s = re.sub(r'\\s*-\\s*', '-', s) # chuẩn hoá dấu gạch ngang\n",
        "  s = re.sub(r'\\s*&\\s*', '&', s)# chuẩn hoá dấu &\n",
        "  s = re.sub(r'\\s+', ' ', s).strip() # loại bỏ khoảng trắng thừa\n",
        "  return s\n",
        "data['item_clean'] = data['itemDescription'].apply(clean_item)"
      ],
      "metadata": {
        "id": "DpTSVFP9lroK"
      },
      "execution_count": null,
      "outputs": []
    },
    {
      "cell_type": "markdown",
      "source": [
        "Xây dựng mã giao dịch\n"
      ],
      "metadata": {
        "id": "gh2KvbSbul4R"
      }
    },
    {
      "cell_type": "code",
      "source": [
        "data['Member_number'] = data['Member_number'].astype(str)\n",
        "data['TransID'] = data['Member_number'] + '_' + data['Date'].dt.strftime('%Y-%m-%d')"
      ],
      "metadata": {
        "id": "DHkytoQsuvDf"
      },
      "execution_count": null,
      "outputs": []
    },
    {
      "cell_type": "markdown",
      "source": [
        "Gom các mặt hàng trong cùng giao dịch"
      ],
      "metadata": {
        "id": "5W73N337voAA"
      }
    },
    {
      "cell_type": "code",
      "source": [
        "transactions = (\n",
        "    data.groupby('TransID')['item_clean'].apply(lambda x: list(dict.fromkeys(x))).tolist()\n",
        ")"
      ],
      "metadata": {
        "id": "cp4oLf4evu-L"
      },
      "execution_count": null,
      "outputs": []
    },
    {
      "cell_type": "markdown",
      "source": [
        "Đếm và lọc mặt hàng hiếm"
      ],
      "metadata": {
        "id": "9WcdvHn9xAPy"
      }
    },
    {
      "cell_type": "code",
      "source": [
        "from collections import Counter\n",
        "cnt = Counter(it for t in transactions for it in t)\n",
        "print(\"Số giao dịch ban đầu: \", len(transactions))\n",
        "print(\"Top items: \", cnt.most_common(15))\n",
        "min_count = 5\n",
        "freq_items = {it for it, c in cnt.items() if c >= min_count}\n",
        "transactions = [[it for it in t if it in freq_items] for t in transactions]\n",
        "transactions = [t for t in transactions if len(t) >= 1]"
      ],
      "metadata": {
        "colab": {
          "base_uri": "https://localhost:8080/"
        },
        "id": "NuHJMs6kxHaA",
        "outputId": "e77cb7f1-c64d-4d7f-aef9-a8cd94dba199"
      },
      "execution_count": null,
      "outputs": [
        {
          "output_type": "stream",
          "name": "stdout",
          "text": [
            "Số giao dịch ban đầu:  14963\n",
            "Top items:  [('whole milk', 2363), ('other vegetables', 1827), ('rolls buns', 1646), ('soda', 1453), ('yogurt', 1285), ('root vegetables', 1041), ('tropical fruit', 1014), ('bottled water', 908), ('sausage', 903), ('citrus fruit', 795), ('pastry', 774), ('pip fruit', 734), ('shopping bags', 712), ('canned beer', 702), ('bottled beer', 678)]\n"
          ]
        }
      ]
    },
    {
      "cell_type": "markdown",
      "source": [
        "Chuyển sang dạng one-hot encoding chuẩn bị cho khai phá luật kết hợp"
      ],
      "metadata": {
        "id": "gqP4LHHAy2Eo"
      }
    },
    {
      "cell_type": "code",
      "source": [
        "from mlxtend.preprocessing import TransactionEncoder\n",
        "te = TransactionEncoder()\n",
        "te_ary = te.fit(transactions).transform(transactions)\n",
        "df_onehot = pd.DataFrame(te_ary, columns = te.columns_)\n",
        "df_onehot.to_csv('groceries_onehot.csv', index=False)\n",
        "print(\"One-hot saved, shape: \", df_onehot.shape)"
      ],
      "metadata": {
        "colab": {
          "base_uri": "https://localhost:8080/"
        },
        "id": "WgbTtmqBy9j1",
        "outputId": "fe3ee3a1-1509-4dcd-e643-aee1c6916826"
      },
      "execution_count": null,
      "outputs": [
        {
          "output_type": "stream",
          "name": "stdout",
          "text": [
            "One-hot saved, shape:  (14963, 163)\n"
          ]
        }
      ]
    },
    {
      "cell_type": "markdown",
      "source": [
        "Chạy apriori"
      ],
      "metadata": {
        "id": "f42afFE9hQOq"
      }
    },
    {
      "cell_type": "code",
      "source": [
        "from mlxtend.frequent_patterns import apriori, association_rules\n",
        "min_support = 0.01\n",
        "frequent_itemsets = apriori(\n",
        "    df_onehot,\n",
        "    min_support = min_support,\n",
        "    use_colnames=True, #Giữ tên sản phẩm thay vì index cột\n",
        "    max_len = 3        # Chỉ xét tối đa 3 sản phẩm / tập\n",
        ")\n",
        "# Sắp xếp để xem các tập phổ biến nhất\n",
        "frequent_itemsets = frequent_itemsets.sort_values(by = \"support\", ascending=False)\n",
        "print(\"Số tập phổ biến tìm được: \", frequent_itemsets.shape[0])\n",
        "print(\"Top 10 tâp phổ biến nhất: \")\n",
        "print(frequent_itemsets.head(10))\n",
        "#Lưu lai\n",
        "frequent_itemsets.to_csv(\"frequent_itemsets.csv\", index = False)\n",
        "print(\"Đã lưu frequent_itemsets.csv\")"
      ],
      "metadata": {
        "id": "9TkJFS-GhSU7"
      },
      "execution_count": null,
      "outputs": []
    },
    {
      "cell_type": "markdown",
      "source": [
        "Sinh luật kết hợp từ các tập"
      ],
      "metadata": {
        "id": "pZNzGnIIlhAz"
      }
    },
    {
      "cell_type": "code",
      "source": [
        "#Tạo các luật dựa trêm chỉ số \"confidence\"\n",
        "#min_threshold ở đây chính là min_confidence\n",
        "rules = association_rules(\n",
        "    frequent_itemsets,\n",
        "    metric = \"confidence\",\n",
        "    min_threshold = 0.3 #Chỉ lấy cấc luật có độ tin cậy >= 30%\n",
        ")\n",
        "# Thêm độ dài vế trái để tiện lọc luật dạng \"mua combo -> mua thêm gì\"\n",
        "rules[\"antecedent_len\"] = rules[\"antecedents\"].apply(lambda x: len(x))\n",
        "#Sắp xếp luật theo lift (độ \"thú vị\", >1 nghĩa là có liên kết dương)\n",
        "rules_sorted = rules.sort_values(by = \"lift\", ascending = False)\n",
        "print(\"Tổng số luật tạo ra: \", rules_sorted.shape[0])\n",
        "print(\"Top 10 luật lift cao nhất\")\n",
        "cols_show=[\n",
        "    \"antecedents\", \"consequents\",\n",
        "    \"support\", \"confidence\",\"lift\",\n",
        "    \"antecedent_len\"\n",
        "]\n",
        "print(rules_sorted[cols_show].head(10))\n",
        "#lưu file\n",
        "rules_sorted.to_csv(\"all_association_rules.csv\", index = False)\n",
        "print(\"Đã lưu all_association_rules.csv\")"
      ],
      "metadata": {
        "id": "4EuHRF3Elkj6"
      },
      "execution_count": null,
      "outputs": []
    }
  ]
}