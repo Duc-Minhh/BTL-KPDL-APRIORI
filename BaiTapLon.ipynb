{
  "nbformat": 4,
  "nbformat_minor": 0,
  "metadata": {
    "colab": {
      "provenance": []
    },
    "kernelspec": {
      "name": "python3",
      "display_name": "Python 3"
    },
    "language_info": {
      "name": "python"
    }
  },
  "cells": [
    {
      "cell_type": "code",
      "source": [
        "!pip install mlxtend --quiet\n",
        "!pip install pandas numpy matplotlib --quiet"
      ],
      "metadata": {
        "id": "Py49hulnh0ly"
      },
      "execution_count": 24,
      "outputs": []
    },
    {
      "cell_type": "code",
      "execution_count": 25,
      "metadata": {
        "colab": {
          "base_uri": "https://localhost:8080/"
        },
        "id": "AmuhZoniQBy8",
        "outputId": "51f0102b-a414-43cf-81ed-cfb6b46557e1",
        "collapsed": true
      },
      "outputs": [
        {
          "output_type": "stream",
          "name": "stdout",
          "text": [
            "Drive already mounted at /content/drive/; to attempt to forcibly remount, call drive.mount(\"/content/drive/\", force_remount=True).\n"
          ]
        }
      ],
      "source": [
        "from google.colab import drive\n",
        "drive.mount('/content/drive/')"
      ]
    },
    {
      "cell_type": "code",
      "source": [
        "import pandas as pd\n",
        "data = pd.read_csv('/content/drive/MyDrive/Groceries_dataset.csv')\n",
        "print(\"Dữ liệu ban đầu: \", data.shape)\n",
        "print(\"5 Bộ dữ liệu đầu tiên\", data.head)"
      ],
      "metadata": {
        "colab": {
          "base_uri": "https://localhost:8080/"
        },
        "id": "nOf8a356fvqt",
        "outputId": "07412616-30d4-4fe0-8cc8-52a6bb218b20"
      },
      "execution_count": 26,
      "outputs": [
        {
          "output_type": "stream",
          "name": "stdout",
          "text": [
            "Dữ liệu ban đầu:  (38765, 3)\n",
            "5 Bộ dữ liệu đầu tiên <bound method NDFrame.head of        Member_number        Date        itemDescription\n",
            "0               1808  21-07-2015         tropical fruit\n",
            "1               2552  05-01-2015             whole milk\n",
            "2               2300  19-09-2015              pip fruit\n",
            "3               1187  12-12-2015       other vegetables\n",
            "4               3037  01-02-2015             whole milk\n",
            "...              ...         ...                    ...\n",
            "38760           4471  08-10-2014          sliced cheese\n",
            "38761           2022  23-02-2014                  candy\n",
            "38762           1097  16-04-2014               cake bar\n",
            "38763           1510  03-12-2014  fruit/vegetable juice\n",
            "38764           1521  26-12-2014               cat food\n",
            "\n",
            "[38765 rows x 3 columns]>\n"
          ]
        }
      ]
    },
    {
      "cell_type": "markdown",
      "source": [
        "Làm sạch dữ liệu cơ bản"
      ],
      "metadata": {
        "id": "8pLW1Tl6lf02"
      }
    },
    {
      "cell_type": "code",
      "source": [
        "import re\n",
        "data['Date'] = pd.to_datetime(data['Date'], dayfirst = True, errors = 'coerce')\n",
        "data = data.dropna(subset = ['Date'])\n",
        "data['itemDescription'] = data['itemDescription'].astype(str)\n",
        "data = data[data['itemDescription'].str.strip() != '']\n",
        "def clean_item(s):\n",
        "  s = str(s).lower().strip()\n",
        "  s = re.sub(r'[/\\\\]', ' ', s)   # thay / hoặc \\ bằng khoảng trắng\n",
        "  s = re.sub(r'[^a-z0-9\\s\\-\\&]', ' ', s) # chỉ giữ lại chữ, số, -, &, khoảng trắng\n",
        "  s = re.sub(r'\\s*-\\s*', '-', s) # chuẩn hoá dấu gạch ngang\n",
        "  s = re.sub(r'\\s*&\\s*', '&', s)# chuẩn hoá dấu &\n",
        "  s = re.sub(r'\\s+', ' ', s).strip() # loại bỏ khoảng trắng thừa\n",
        "  return s\n",
        "data['item_clean'] = data['itemDescription'].apply(clean_item)"
      ],
      "metadata": {
        "id": "DpTSVFP9lroK",
        "collapsed": true
      },
      "execution_count": 27,
      "outputs": []
    },
    {
      "cell_type": "markdown",
      "source": [
        "Xây dựng mã giao dịch\n"
      ],
      "metadata": {
        "id": "gh2KvbSbul4R"
      }
    },
    {
      "cell_type": "code",
      "source": [
        "data['Member_number'] = data['Member_number'].astype(str)\n",
        "data['TransID'] = data['Member_number'] + '_' + data['Date'].dt.strftime('%Y-%m-%d')"
      ],
      "metadata": {
        "id": "DHkytoQsuvDf",
        "collapsed": true
      },
      "execution_count": 28,
      "outputs": []
    },
    {
      "cell_type": "markdown",
      "source": [
        "Gom các mặt hàng trong cùng giao dịch"
      ],
      "metadata": {
        "id": "5W73N337voAA"
      }
    },
    {
      "cell_type": "code",
      "source": [
        "transactions = (\n",
        "    data.groupby('TransID')['item_clean'].apply(lambda x: list(dict.fromkeys(x))).tolist()\n",
        ")"
      ],
      "metadata": {
        "id": "cp4oLf4evu-L",
        "collapsed": true
      },
      "execution_count": 29,
      "outputs": []
    },
    {
      "cell_type": "markdown",
      "source": [
        "Đếm và lọc mặt hàng hiếm"
      ],
      "metadata": {
        "id": "9WcdvHn9xAPy"
      }
    },
    {
      "cell_type": "code",
      "source": [
        "from collections import Counter\n",
        "cnt = Counter(it for t in transactions for it in t)\n",
        "print(\"Số giao dịch ban đầu: \", len(transactions))\n",
        "print(\"Top items: \", cnt.most_common(15))\n",
        "min_count = 1\n",
        "freq_items = {it for it, c in cnt.items() if c >= min_count}\n",
        "transactions = [[it for it in t if it in freq_items] for t in transactions]\n",
        "transactions = [t for t in transactions if len(t) >= 1]"
      ],
      "metadata": {
        "colab": {
          "base_uri": "https://localhost:8080/"
        },
        "id": "NuHJMs6kxHaA",
        "outputId": "82e0e8f4-73f1-41e1-ea83-9da24bbc962c",
        "collapsed": true
      },
      "execution_count": 30,
      "outputs": [
        {
          "output_type": "stream",
          "name": "stdout",
          "text": [
            "Số giao dịch ban đầu:  14963\n",
            "Top items:  [('whole milk', 2363), ('other vegetables', 1827), ('rolls buns', 1646), ('soda', 1453), ('yogurt', 1285), ('root vegetables', 1041), ('tropical fruit', 1014), ('bottled water', 908), ('sausage', 903), ('citrus fruit', 795), ('pastry', 774), ('pip fruit', 734), ('shopping bags', 712), ('canned beer', 702), ('bottled beer', 678)]\n"
          ]
        }
      ]
    },
    {
      "cell_type": "markdown",
      "source": [
        "Chuyển sang dạng one-hot encoding chuẩn bị cho khai phá luật kết hợp"
      ],
      "metadata": {
        "id": "gqP4LHHAy2Eo"
      }
    },
    {
      "cell_type": "code",
      "source": [
        "from mlxtend.preprocessing import TransactionEncoder\n",
        "te = TransactionEncoder()\n",
        "te_ary = te.fit(transactions).transform(transactions)\n",
        "df_onehot = pd.DataFrame(te_ary, columns = te.columns_)\n",
        "df_onehot.to_csv('groceries_onehot.csv', index=False)\n",
        "print(\"One-hot saved, shape: \", df_onehot.shape)"
      ],
      "metadata": {
        "colab": {
          "base_uri": "https://localhost:8080/"
        },
        "id": "WgbTtmqBy9j1",
        "outputId": "6b7cbf18-5405-4844-80c0-5bf53ae8f569",
        "collapsed": true
      },
      "execution_count": 31,
      "outputs": [
        {
          "output_type": "stream",
          "name": "stdout",
          "text": [
            "One-hot saved, shape:  (14963, 167)\n"
          ]
        }
      ]
    },
    {
      "cell_type": "markdown",
      "source": [
        "Chạy apriori"
      ],
      "metadata": {
        "id": "f42afFE9hQOq"
      }
    },
    {
      "cell_type": "code",
      "source": [
        "from mlxtend.frequent_patterns import apriori, association_rules\n",
        "min_support = 0.01\n",
        "frequent_itemsets = apriori(\n",
        "    df_onehot,\n",
        "    min_support = min_support,\n",
        "    use_colnames=True, #Giữ tên sản phẩm thay vì index cột\n",
        "    max_len = 3        # Chỉ xét tối đa 3 sản phẩm / tập\n",
        ")\n",
        "# Sắp xếp để xem các tập phổ biến nhất\n",
        "frequent_itemsets = frequent_itemsets.sort_values(by = \"support\", ascending=False)\n",
        "print(\"Số tập phổ biến tìm được: \", frequent_itemsets.shape[0])\n",
        "print(\"Top 10 tâp phổ biến nhất: \")\n",
        "print(frequent_itemsets.head(10))\n",
        "#Lưu lai\n",
        "frequent_itemsets.to_csv(\"frequent_itemsets.csv\", index = False)\n",
        "print(\"Đã lưu frequent_itemsets.csv\")"
      ],
      "metadata": {
        "id": "9TkJFS-GhSU7",
        "colab": {
          "base_uri": "https://localhost:8080/"
        },
        "collapsed": true,
        "outputId": "12049ced-43ae-4b24-d1aa-f3ba66ef19f5"
      },
      "execution_count": 32,
      "outputs": [
        {
          "output_type": "stream",
          "name": "stdout",
          "text": [
            "Số tập phổ biến tìm được:  69\n",
            "Top 10 tâp phổ biến nhất: \n",
            "     support            itemsets\n",
            "62  0.157923        (whole milk)\n",
            "39  0.122101  (other vegetables)\n",
            "45  0.110005        (rolls buns)\n",
            "51  0.097106              (soda)\n",
            "63  0.085879            (yogurt)\n",
            "46  0.069572   (root vegetables)\n",
            "56  0.067767    (tropical fruit)\n",
            "4   0.060683     (bottled water)\n",
            "48  0.060349           (sausage)\n",
            "14  0.053131      (citrus fruit)\n",
            "Đã lưu frequent_itemsets.csv\n"
          ]
        }
      ]
    },
    {
      "cell_type": "markdown",
      "source": [
        "Sinh luật kết hợp từ các tập"
      ],
      "metadata": {
        "id": "pZNzGnIIlhAz"
      }
    },
    {
      "cell_type": "code",
      "source": [
        "#Tạo các luật dựa trêm chỉ số \"confidence\"\n",
        "#min_threshold ở đây chính là min_confidence\n",
        "rules = association_rules(\n",
        "    frequent_itemsets,\n",
        "    metric = \"confidence\",\n",
        "    min_threshold = 0.1 #Chỉ lấy cấc luật có độ tin cậy >= 10%\n",
        ")\n",
        "# Thêm độ dài vế trái để tiện lọc luật dạng \"mua combo -> mua thêm gì\"\n",
        "rules[\"antecedent_len\"] = rules[\"antecedents\"].apply(lambda x: len(x))\n",
        "#Sắp xếp luật theo lift (độ \"thú vị\", >1 nghĩa là có liên kết dương)\n",
        "rules_sorted = rules.sort_values(by = \"lift\", ascending = False)\n",
        "print(\"Tổng số luật tạo ra: \", rules_sorted.shape[0])\n",
        "print(\"Top 10 luật lift cao nhất\")\n",
        "cols_show=[\n",
        "    \"antecedents\", \"consequents\",\n",
        "    \"support\", \"confidence\",\"lift\",\n",
        "    \"antecedent_len\"\n",
        "]\n",
        "print(rules_sorted[cols_show].head(10))\n",
        "#lưu file\n",
        "rules_sorted.to_csv(\"all_association_rules.csv\", index = False)\n",
        "print(\"Đã lưu all_association_rules.csv\")"
      ],
      "metadata": {
        "id": "4EuHRF3Elkj6",
        "colab": {
          "base_uri": "https://localhost:8080/"
        },
        "collapsed": true,
        "outputId": "585ca746-c4d9-4963-8758-c8abc199c2d3"
      },
      "execution_count": 36,
      "outputs": [
        {
          "output_type": "stream",
          "name": "stdout",
          "text": [
            "Tổng số luật tạo ra:  0\n",
            "Top 10 luật lift cao nhất\n",
            "Empty DataFrame\n",
            "Columns: [antecedents, consequents, support, confidence, lift, antecedent_len]\n",
            "Index: []\n",
            "Đã lưu all_association_rules.csv\n"
          ]
        }
      ]
    },
    {
      "cell_type": "markdown",
      "source": [
        "Lọc ra những luật mạnh"
      ],
      "metadata": {
        "id": "e3Uih3n1w4Vf"
      }
    },
    {
      "cell_type": "code",
      "source": [
        "#lift > 1.2 : mối quan hệ mua kèm thực sự mạnh\n",
        "#confidence >= 0.3 : tin cậy ( ít nhất 40% người mua A cũng mua B)\n",
        "#support >= 0.01 : không quá hiếm, có ý nghĩa thực tế\n",
        "strong_rules = rules_sorted[\n",
        "    (rules_sorted[\"lift\"] > 1.2) &\n",
        "    (rules_sorted[\"confidence\"] >= 0.3) &\n",
        "    (rules_sorted[\"support\"] >= 0.01)\n",
        "][cols_show]\n",
        "print(\"Các luật mạnh sau khi lọc: \")\n",
        "print(strong_rules.head(20))\n",
        "\n",
        "#lưu\n",
        "strong_rules.to_csv(\"strong_rules.csv\", index = False)\n",
        "print(\"Đã lưu strong_rules\")"
      ],
      "metadata": {
        "collapsed": true,
        "colab": {
          "base_uri": "https://localhost:8080/"
        },
        "id": "jNhqlWxDw3bM",
        "outputId": "606a5134-4f0e-44de-e254-db7ad00c6b0a"
      },
      "execution_count": 34,
      "outputs": [
        {
          "output_type": "stream",
          "name": "stdout",
          "text": [
            "Các luật mạnh sau khi lọc: \n",
            "Empty DataFrame\n",
            "Columns: [antecedents, consequents, support, confidence, lift, antecedent_len]\n",
            "Index: []\n",
            "Đã lưu strong_rules\n"
          ]
        }
      ]
    }
  ]
}